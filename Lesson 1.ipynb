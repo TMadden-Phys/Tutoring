{
 "cells": [
  {
   "attachments": {},
   "cell_type": "markdown",
   "metadata": {},
   "source": [
    "# Maths Pt 1 - Mathematical basics\n",
    "\n",
    "## Graphs and Functions\n",
    "\n",
    "### Algebra\n",
    "\n",
    "In mathematics symbols are used to denote constants, variables or functions\n",
    "\n",
    "We can assign a constant to a symbol e.g. C = 2 \n",
    "\n",
    "We can also assign a symbol that can take many values such as what you know, $x$\n",
    "\n",
    "A function can be defined by a symbol and the variables it relies on, e.g. $f(x) = 2x+1$, $f(x,y) = 2x+3y+1$\n",
    "\n",
    "assume already done algebraic equations, simplification solving for a variable etc...\n",
    "\n",
    "### Graphs\n",
    "\n",
    "Graphs are used to show the form of a function when a variable changes.\n"
   ]
  },
  {
   "attachments": {},
   "cell_type": "markdown",
   "metadata": {},
   "source": []
  }
 ],
 "metadata": {
  "language_info": {
   "name": "python"
  },
  "orig_nbformat": 4
 },
 "nbformat": 4,
 "nbformat_minor": 2
}
