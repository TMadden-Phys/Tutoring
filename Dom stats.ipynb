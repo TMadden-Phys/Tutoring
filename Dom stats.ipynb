{
 "cells": [
  {
   "cell_type": "code",
   "execution_count": 32,
   "metadata": {},
   "outputs": [
    {
     "name": "stdout",
     "output_type": "stream",
     "text": [
      "Power_divergenceResult(statistic=28.249867091972355, pvalue=1.0662195237395455e-07)\n",
      "Power_divergenceResult(statistic=64.73467916366259, pvalue=8.569332810739596e-16)\n",
      "Power_divergenceResult(statistic=0.6401515151515152, pvalue=0.4236559366673238)\n"
     ]
    }
   ],
   "source": [
    "import numpy as np\n",
    "from scipy.stats import chisquare\n",
    "#neutral\n",
    "class N:\n",
    "    pos_avg, pos_std = 3, 1.15\n",
    "    pos_data = np.random.poisson(pos_avg, size = 200)\n",
    "    neg_avg, neg_std = 2.1, 0.99\n",
    "    neg_data = np.random.poisson(neg_avg, size = 200)\n",
    "\n",
    "\n",
    "class H:\n",
    "    pos_avg, pos_std = 6.7, 1.82\n",
    "    pos_data = np.random.poisson(pos_avg, size = 200)\n",
    "    neg_avg, neg_std = -.7, 0.7\n",
    "\n",
    "class S:\n",
    "    pos_avg, pos_std = 1, 0.81\n",
    "    pos_data = np.random.poisson(pos_avg, size = 200)\n",
    "    neg_avg, neg_std = 7.1, 1.91\n",
    "    neg_data = np.random.poisson(neg_avg, size = 200)\n",
    "\n",
    "\n",
    "print(chisquare(np.array((60,6)), np.array((27,19)) / 46 * 66))\n",
    "print(chisquare(np.array((9,64)), np.array((27,19)) / 46 * (9+64)))\n",
    "print(chisquare(np.array((60,6)), np.array((64,9)) / (64+9) * (66)))\n",
    "\n",
    "\n",
    "\n",
    "\n",
    "\n",
    "\n",
    "\n"
   ]
  }
 ],
 "metadata": {
  "kernelspec": {
   "display_name": "PhysicsFourier",
   "language": "python",
   "name": "python3"
  },
  "language_info": {
   "codemirror_mode": {
    "name": "ipython",
    "version": 3
   },
   "file_extension": ".py",
   "mimetype": "text/x-python",
   "name": "python",
   "nbconvert_exporter": "python",
   "pygments_lexer": "ipython3",
   "version": "3.9.16"
  }
 },
 "nbformat": 4,
 "nbformat_minor": 2
}
